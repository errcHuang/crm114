{
 "cells": [
  {
   "cell_type": "markdown",
   "metadata": {},
   "source": [
    "##First just scoping out papers\n",
    "\n",
    "\n",
    "Naïve Bayesian Classifier for Rapid Assignment of rRNA Sequences into the New Bacterial Taxonomy (http://aem.asm.org/content/73/16/5261.full) These guys use 8 base subsequences as words, which I guess is because they found it had best performance relative to memory requirements."
   ]
  },
  {
   "cell_type": "code",
   "execution_count": 2,
   "metadata": {
    "collapsed": false
   },
   "outputs": [
    {
     "data": {
      "text/plain": [
       "0"
      ]
     },
     "execution_count": 2,
     "metadata": {},
     "output_type": "execute_result"
    }
   ],
   "source": [
    "#tried the michigan state classifier (http://rdp.cme.msu.edu/classifier)\n",
    "import subprocess\n",
    "\n",
    "subprocess.call('head trainset14_032015.pds.fastahier.txt', shell=True)"
   ]
  },
  {
   "cell_type": "markdown",
   "metadata": {},
   "source": [
    "What might be interesting is varying the number of bases that constitute a word.\n",
    "\n",
    "This paper uses 2 bases as a \"motif\" (http://genome.cshlp.org/content/11/8/1404.full)"
   ]
  }
 ],
 "metadata": {
  "kernelspec": {
   "display_name": "Python 2",
   "language": "python",
   "name": "python2"
  },
  "language_info": {
   "codemirror_mode": {
    "name": "ipython",
    "version": 2
   },
   "file_extension": ".py",
   "mimetype": "text/x-python",
   "name": "python",
   "nbconvert_exporter": "python",
   "pygments_lexer": "ipython2",
   "version": "2.7.11"
  }
 },
 "nbformat": 4,
 "nbformat_minor": 0
}
